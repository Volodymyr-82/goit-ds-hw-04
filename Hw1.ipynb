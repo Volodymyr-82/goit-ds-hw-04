{
 "cells": [
  {
   "cell_type": "code",
   "execution_count": 5,
   "id": "453e6c40-cdf4-4651-af0c-2897852e8b12",
   "metadata": {},
   "outputs": [
    {
     "data": {
      "text/plain": [
       "array([ 1,  2,  3,  4,  5,  6,  7,  8,  9, 10])"
      ]
     },
     "execution_count": 5,
     "metadata": {},
     "output_type": "execute_result"
    }
   ],
   "source": [
    "import numpy as np\n",
    "#1. Створіть одновимірний масив (вектор) з першими 10-ма натуральними числами та виведіть його значення.\n",
    "\n",
    "a = np.array([1, 2, 3,4,5,6,7,8,9,10])\n",
    "a"
   ]
  },
  {
   "cell_type": "code",
   "execution_count": 21,
   "id": "ac5be591-cd76-4a44-b866-f5a8bdcd086f",
   "metadata": {},
   "outputs": [
    {
     "data": {
      "text/plain": [
       "array([[0, 0, 0],\n",
       "       [0, 0, 0],\n",
       "       [0, 0, 0]])"
      ]
     },
     "execution_count": 21,
     "metadata": {},
     "output_type": "execute_result"
    }
   ],
   "source": [
    "#2. Створіть двовимірний масив (матрицю) розміром 3x3, заповніть його нулями та виведіть його значення.\n",
    "b=np.array([[0,0,0], [0,0,0], [0,0,0]])\n",
    "\n",
    "b"
   ]
  },
  {
   "cell_type": "code",
   "execution_count": 10,
   "id": "2e50ff1a-5bb9-481a-ae99-6d5fee5019c1",
   "metadata": {},
   "outputs": [
    {
     "data": {
      "text/plain": [
       "array([[7, 1, 2, 3, 6],\n",
       "       [8, 7, 2, 7, 8],\n",
       "       [2, 3, 5, 4, 5],\n",
       "       [8, 7, 5, 8, 3],\n",
       "       [5, 3, 5, 3, 9]], dtype=int32)"
      ]
     },
     "execution_count": 10,
     "metadata": {},
     "output_type": "execute_result"
    }
   ],
   "source": [
    "#3 Створіть масив розміром 5x5, заповніть його випадковими цілими числами в діапазоні від 1 до 10 та \n",
    "# виведіть його значення.\n",
    "    \n",
    "c = np.random.randint(1, 10, size=(5, 5))\n",
    "c"
   ]
  },
  {
   "cell_type": "code",
   "execution_count": 13,
   "id": "17953168-3413-4419-b856-387bf5258395",
   "metadata": {},
   "outputs": [
    {
     "data": {
      "text/plain": [
       "array([[0.98347532, 0.53575308, 0.46979087, 0.05312449],\n",
       "       [0.37685871, 0.69213944, 0.08712064, 0.94187642],\n",
       "       [0.55408937, 0.35415874, 0.0622727 , 0.18935165],\n",
       "       [0.7191117 , 0.30528801, 0.27998782, 0.33747328]])"
      ]
     },
     "execution_count": 13,
     "metadata": {},
     "output_type": "execute_result"
    }
   ],
   "source": [
    "#4 Створіть масив розміром 4x4, заповніть його випадковими дійсними числами в діапазоні від 0 до 1 та \n",
    "#виведіть його значення.\n",
    "\n",
    "d = np.random.random(size=(4, 4))\n",
    "d"
   ]
  },
  {
   "cell_type": "code",
   "execution_count": 18,
   "id": "565f94df-ffef-434a-b5cc-03418579ec6d",
   "metadata": {},
   "outputs": [],
   "source": [
    "#5 Створіть два одновимірних масиви розміром 5, заповніть їх випадковими цілими числами в діапазоні від 1 до 10 та виконайте на них поелементні операції додавання, \n",
    "#віднімання та множення.\n",
    "e=np.random.randint(1,10, size=(1,5))\n",
    "f=np.random.randint(1,10, size=(1,5))"
   ]
  },
  {
   "cell_type": "code",
   "execution_count": 48,
   "id": "c2828b3f-29bd-43d9-855c-47a973a3f503",
   "metadata": {},
   "outputs": [
    {
     "name": "stdout",
     "output_type": "stream",
     "text": [
      "[[2 8 8 5 1]] [[1 2 1 4 6]]\n"
     ]
    }
   ],
   "source": [
    "print(e, f)\n"
   ]
  },
  {
   "cell_type": "code",
   "execution_count": 20,
   "id": "ce1318ba-23a6-4a04-9ed2-30a741ec58ba",
   "metadata": {
    "scrolled": true
   },
   "outputs": [
    {
     "name": "stdout",
     "output_type": "stream",
     "text": [
      "[[ 3 10  9  9  7]]\n",
      "[[ 1  6  7  1 -5]]\n",
      "[[ 2 16  8 20  6]]\n"
     ]
    }
   ],
   "source": [
    "print(e+f)\n",
    "print(e-f)\n",
    "print(e*f)"
   ]
  },
  {
   "cell_type": "code",
   "execution_count": 28,
   "id": "9d399ec9-e3b4-4bcf-8b8e-aa6f846ce699",
   "metadata": {},
   "outputs": [
    {
     "name": "stdout",
     "output_type": "stream",
     "text": [
      "11407.604428233366\n"
     ]
    }
   ],
   "source": [
    "#6 Створіть два вектори розміром 7, заповніть довільними числами та знайдіть їх скалярний добуток.\n",
    "\n",
    "g=np.random.uniform(1,100, size=7)\n",
    "h=np.random.uniform(1,100, size=7)\n",
    "print(np.dot(g,h))"
   ]
  },
  {
   "cell_type": "code",
   "execution_count": 32,
   "id": "4b70f812-78dd-448e-861e-2b6465449262",
   "metadata": {},
   "outputs": [
    {
     "name": "stdout",
     "output_type": "stream",
     "text": [
      "[[ 6 18 16]\n",
      " [20 42 54]]\n"
     ]
    }
   ],
   "source": [
    "#7 Створіть дві матриці розміром 2x2 та 2x3, заповніть їх випадковими цілими числами в діапазоні від 1 до 10 \n",
    "#та перемножте їх між собою.\n",
    "m1=np.random.randint(1, 10, size=(2, 3))\n",
    "m2=np.random.randint(1, 10, size=(2, 3))\n",
    "print(m1*m2)"
   ]
  },
  {
   "cell_type": "code",
   "execution_count": 40,
   "id": "0190a499-fa6b-46b5-ba1f-cbadf79edf61",
   "metadata": {},
   "outputs": [
    {
     "data": {
      "text/plain": [
       "array([[-0.265625,  0.734375, -0.34375 ],\n",
       "       [ 0.25    , -0.75    ,  0.5     ],\n",
       "       [ 0.375   , -0.625   ,  0.25    ]])"
      ]
     },
     "execution_count": 40,
     "metadata": {},
     "output_type": "execute_result"
    }
   ],
   "source": [
    "#8 Створіть матрицю розміром 3x3, заповніть її випадковими цілими числами в діапазоні \n",
    "#від 1 до 10 та знайдіть її обернену матрицю.\n",
    "\n",
    "m3=np.random.randint(1, 10, size=(3, 3))\n",
    "m3_inv=np.linalg.inv(m3)\n",
    "m3_inv"
   ]
  },
  {
   "cell_type": "code",
   "execution_count": 42,
   "id": "67320ec0-e41a-4f0c-8b0e-ed4823b932a0",
   "metadata": {},
   "outputs": [
    {
     "name": "stdout",
     "output_type": "stream",
     "text": [
      "[[0.28409484 0.4555903  0.52438417 0.50670669]\n",
      " [0.50012132 0.38783077 0.2657136  0.13738495]\n",
      " [0.23809004 0.72234576 0.27976113 0.22834131]\n",
      " [0.99598578 0.28621469 0.27571374 0.44611094]]\n"
     ]
    }
   ],
   "source": [
    "#9 Створіть матрицю розміром 4x4, заповніть її випадковими дійсними числами в діапазоні від 0 до 1\n",
    "# та транспонуйте її.\n",
    "m4=np.random.uniform(0, 1, size=(4, 4))\n",
    "print(m4.T)"
   ]
  },
  {
   "cell_type": "code",
   "execution_count": 50,
   "id": "190e2e92-5537-45fc-a5b7-ba738329fa4c",
   "metadata": {},
   "outputs": [
    {
     "name": "stdout",
     "output_type": "stream",
     "text": [
      "[[56  3 20  6]\n",
      " [42  9 20  1]\n",
      " [63  5 15  4]]\n"
     ]
    }
   ],
   "source": [
    "#10 Створіть матрицю розміром 3x4 та вектор розміром 4, заповніть їх випадковими цілими числами в діапазоні \n",
    "#від 1 до 10 та перемножте матрицю на вектор.\n",
    "m6=np.random.randint(1, 10, size=(3, 4))\n",
    "v6=np.random.randint(1, 10, size=4)\n",
    "print(m6*v6)"
   ]
  },
  {
   "cell_type": "code",
   "execution_count": 13,
   "id": "d4063a68-40a5-45a6-8d51-03c3b923ae1c",
   "metadata": {},
   "outputs": [
    {
     "name": "stdout",
     "output_type": "stream",
     "text": [
      "[[0.18899531 0.16837697 0.11999805]\n",
      " [0.29204048 0.14267605 0.29751101]]\n"
     ]
    }
   ],
   "source": [
    "#11 Створіть матрицю розміром 2x3 та вектор розміром 3, заповніть їх випадковими дійсними числами в діапазоні від 0 до 1 \n",
    "# та перемножте матрицю на вектор.\n",
    "m4=np.random.uniform(0, 1, size=(2, 3))\n",
    "v4=np.random.uniform(0, 1, size=3)\n",
    "print(m4*v4)"
   ]
  },
  {
   "cell_type": "code",
   "execution_count": 47,
   "id": "be25496b-5973-4f9d-a926-b3c4f947dded",
   "metadata": {},
   "outputs": [
    {
     "name": "stdout",
     "output_type": "stream",
     "text": [
      "[[21 63]\n",
      " [ 6 16]]\n"
     ]
    }
   ],
   "source": [
    "#12 Створіть дві матриці розміром 2x2, заповніть їх випадковими цілими числами в діапазоні \n",
    "#від 1 до 10 та виконайте їхнє поелементне множення.\n",
    "m5=np.random.randint(1, 10, size=(2, 2))\n",
    "m6=np.random.randint(1, 10, size=(2, 2))\n",
    "print(m5* m6)"
   ]
  },
  {
   "cell_type": "code",
   "execution_count": 7,
   "id": "1a58b846-d881-4d72-8bf9-43c6883cba01",
   "metadata": {},
   "outputs": [
    {
     "name": "stdout",
     "output_type": "stream",
     "text": [
      "[[ 6  2]\n",
      " [18  7]]\n"
     ]
    }
   ],
   "source": [
    "#13 Створіть дві матриці розміром 2x2, заповніть їх випадковими цілими числами в діапазоні \n",
    "#від 1 до 10 та знайдіть їх добуток.\n",
    "\n",
    "m5=np.random.randint(1, 10, size=(2, 2))\n",
    "m6=np.random.randint(1, 10, size=(2, 2))\n",
    "print(m5* m6)"
   ]
  },
  {
   "cell_type": "code",
   "execution_count": 10,
   "id": "1e78a9fd-bd8d-445d-9328-58455ef4a7a4",
   "metadata": {},
   "outputs": [
    {
     "name": "stdout",
     "output_type": "stream",
     "text": [
      "1324\n"
     ]
    }
   ],
   "source": [
    "#14 Створіть матрицю розміром 5x5, заповніть її випадковими цілими числами в діапазоні \n",
    "# від 1 до 100 та знайдіть суму елементів матриці.\n",
    "m14=np.random.randint(1, 100, size=(5, 5))\n",
    "ls=[]\n",
    "for i in range(0, 5):\n",
    "    for j in range(0, 5):\n",
    "        ls.append(m14[i, j])\n",
    "s=sum(ls)\n",
    "print(s)"
   ]
  },
  {
   "cell_type": "code",
   "execution_count": 14,
   "id": "9ef0c9f2-7fdc-403d-939f-53c12ce34cff",
   "metadata": {},
   "outputs": [
    {
     "name": "stdout",
     "output_type": "stream",
     "text": [
      "[[ 2  2  0 -6]\n",
      " [ 4 -5  0  2]\n",
      " [-3  5 -3 -6]\n",
      " [-8  4  1  1]]\n"
     ]
    }
   ],
   "source": [
    "#15 Створіть дві матриці розміром 4x4, заповніть їх випадковими цілими числами в діапазоні\n",
    "# від 1 до 10 та знайдіть їхню різницю.\n",
    "\n",
    "m15=np.random.randint(1, 10, size=(4, 4))\n",
    "m_16=np.random.randint(1, 10, size=(4, 4))\n",
    "print(m15-m_16)"
   ]
  },
  {
   "cell_type": "code",
   "execution_count": 17,
   "id": "53b813f1-87f9-4512-9dc5-d0df1e56c8c2",
   "metadata": {},
   "outputs": [
    {
     "name": "stdout",
     "output_type": "stream",
     "text": [
      "1.7346828990537606\n",
      "1.9595254980536514\n",
      "1.617911261050771\n"
     ]
    }
   ],
   "source": [
    "#16 Створіть матрицю розміром 3x3, заповніть її випадковими дійсними числами в діапазоні від 0 до 1 та \n",
    "#знайдіть вектор-стовпчик, що містить суму елементів кожного рядка матриці.\n",
    "\n",
    "m16=np.random.uniform(0, 1, size=(3, 3))\n",
    "for i in range(0, 3):\n",
    "    v16=m16[i]\n",
    "    v16_sum=sum(v16)\n",
    "    print(v16_sum)"
   ]
  },
  {
   "cell_type": "code",
   "execution_count": 24,
   "id": "afd5a121-b6a1-44fb-a03d-c496b29fb365",
   "metadata": {},
   "outputs": [
    {
     "name": "stdout",
     "output_type": "stream",
     "text": [
      "[[  1   4   9  16]\n",
      " [ 25  36  49  64]\n",
      " [ 81 100 121 144]]\n"
     ]
    }
   ],
   "source": [
    "#17 Створіть матрицю розміром 3x4 з довільними цілими числами і створінь матрицю з квадратами цих чисел.\n",
    "m17=np.array([[1,2,3,4], [5,6,7,8], [9,10,11,12]])\n",
    "m17_q = np.ones((3, 4), dtype=int)\n",
    "for i in range(0, 3):\n",
    "    for j in range(0, 4):\n",
    "        m17_q[i, j]=m17[i, j]**2\n",
    "        \n",
    "print(m17_q)"
   ]
  },
  {
   "cell_type": "code",
   "execution_count": 29,
   "id": "2130fe20-22c8-4e9c-9e8d-c2fe096f0702",
   "metadata": {},
   "outputs": [
    {
     "name": "stdout",
     "output_type": "stream",
     "text": [
      "[2.82842712 2.23606798 1.73205081 6.92820323]\n"
     ]
    }
   ],
   "source": [
    "#18Створіть вектор розміром 4, заповніть його випадковими цілими числами в діапазоні від 1 до 50 \n",
    "#та знайдіть вектор з квадратними коренями цих чисел.\n",
    "v18=np.random.randint(1, 50, size=4)\n",
    "v18_q=v18**0.5\n",
    "print(v18_q)"
   ]
  },
  {
   "cell_type": "code",
   "execution_count": null,
   "id": "51afe6f7-87ca-47ce-b6f0-83dba309a619",
   "metadata": {},
   "outputs": [],
   "source": []
  }
 ],
 "metadata": {
  "kernelspec": {
   "display_name": "Python 3 (ipykernel)",
   "language": "python",
   "name": "python3"
  },
  "language_info": {
   "codemirror_mode": {
    "name": "ipython",
    "version": 3
   },
   "file_extension": ".py",
   "mimetype": "text/x-python",
   "name": "python",
   "nbconvert_exporter": "python",
   "pygments_lexer": "ipython3",
   "version": "3.13.5"
  }
 },
 "nbformat": 4,
 "nbformat_minor": 5
}
