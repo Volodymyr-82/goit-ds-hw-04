{
 "cells": [
  {
   "cell_type": "code",
   "execution_count": 4,
   "id": "0d798598-edba-4ebb-948a-bff83ed9eacd",
   "metadata": {},
   "outputs": [
    {
     "data": {
      "text/plain": [
       "array([ 0, -1,  2, -1,  4, -1,  6, -1,  8,  9])"
      ]
     },
     "execution_count": 4,
     "metadata": {},
     "output_type": "execute_result"
    }
   ],
   "source": [
    "import numpy as np\n",
    "#1. Замініть усі непарні числа в arr на -1 \n",
    "arr = np.array([0, 1, 2, 3, 4, 5, 6, 7, 8, 9])\n",
    "for i in range(0,9):\n",
    "    if arr[i]%2==1:\n",
    "        arr[i]=-1\n",
    "arr   "
   ]
  },
  {
   "cell_type": "code",
   "execution_count": 8,
   "id": "b56d0215-a921-4c38-b58d-26ba96a9d91d",
   "metadata": {},
   "outputs": [
    {
     "name": "stdout",
     "output_type": "stream",
     "text": [
      "[0 1 2 3 4 5 6 7 8 9] \n",
      " [[0 1 2 3 4]\n",
      " [5 6 7 8 9]]\n"
     ]
    }
   ],
   "source": [
    "#2. Створіть та перетворіть 1D-масив на 2D-масив із 2 рядками\n",
    "arr_1d = np.arange(10) \n",
    "arr_2d = arr_1d.reshape(2, -1)\n",
    "print(arr_1d, \"\\n\", arr_2d,)"
   ]
  },
  {
   "cell_type": "code",
   "execution_count": 9,
   "id": "8d56f2ad-021a-43ce-a85f-f03510ed59d7",
   "metadata": {},
   "outputs": [
    {
     "name": "stdout",
     "output_type": "stream",
     "text": [
      "[[ 1  2  3]\n",
      " [ 4  5  6]\n",
      " [ 7  8  9]\n",
      " [10 11 12]]\n"
     ]
    }
   ],
   "source": [
    "#3. Створіть два двовимірні масиви а і b, та складіть масиви їх вертикально\n",
    "a = np.array([[1, 2, 3], [4, 5, 6]])\n",
    "b = np.array([[7, 8, 9], [10, 11, 12]])\n",
    "\n",
    "res = np.vstack((a, b))\n",
    "print(res)"
   ]
  },
  {
   "cell_type": "code",
   "execution_count": 20,
   "id": "a1ac7112-7dc9-4840-965b-e07e55d3a153",
   "metadata": {},
   "outputs": [
    {
     "name": "stdout",
     "output_type": "stream",
     "text": [
      "[1 1 1 2 2 2 3 3 3 1 2 3 1 2 3 1 2 3]\n"
     ]
    }
   ],
   "source": [
    "#4. Створіть наступний шаблон без жорсткого кодування(Hard coding) . \n",
    "#Використовуйте лише функції Numpy і наведений нижче масив введення Input:a = np.array([1,2,3])\n",
    "#Input:\n",
    "a4 = np.array([1,2,3])\n",
    "#Output:array([1, 1, 1, 2, 2, 2, 3, 3, 3, 1, 2, 3, 1, 2, 3, 1, 2, 3])\n",
    "part1 = np.repeat(a4, 3)\n",
    "part2 = np.tile(a4, 3)\n",
    "\n",
    "result = np.concatenate((part1, part2))\n",
    "\n",
    "print(result)"
   ]
  },
  {
   "cell_type": "code",
   "execution_count": 21,
   "id": "39d8681a-8453-4cd2-833d-7e87bc0c6f9f",
   "metadata": {},
   "outputs": [
    {
     "name": "stdout",
     "output_type": "stream",
     "text": [
      "[2 4]\n"
     ]
    }
   ],
   "source": [
    "#5. Отримайте спільні елементи між a і b\n",
    "\n",
    "a5 = np.array([1,2,3,2,3,4,3,4,5,6]) \n",
    "b5 = np.array([7,2,10,2,7,4,9,4,9,8])\n",
    "\n",
    "common = np.intersect1d(a5, b5)\n",
    "\n",
    "print(common)"
   ]
  },
  {
   "cell_type": "code",
   "execution_count": 22,
   "id": "43c48274-1b08-4464-b7b8-81fff63f37ae",
   "metadata": {},
   "outputs": [
    {
     "name": "stdout",
     "output_type": "stream",
     "text": [
      "[48.95256545 44.67477576 42.39403048 41.466785   40.99501269]\n"
     ]
    }
   ],
   "source": [
    "#6. Отримайте позиції перших 5 максимальних значень у заданому масиві a\n",
    "\n",
    "np.random.seed(100) \n",
    "a6 = np.random.uniform(1,50, 20)\n",
    "top_5_indices = np.argsort(a6)[-5:][::-1]\n",
    "\n",
    "print(a6[top_5_indices])"
   ]
  },
  {
   "cell_type": "code",
   "execution_count": 24,
   "id": "982387d7-d7e5-4530-b1b1-e49e4db83f33",
   "metadata": {},
   "outputs": [
    {
     "name": "stdout",
     "output_type": "stream",
     "text": [
      "[1. 2. 3. 5. 6. 7.]\n"
     ]
    }
   ],
   "source": [
    "#7. Вилучіть усі значення NaN із одновимірного масиву\n",
    "\n",
    "a7 = np.array([1,2,3,np.nan,5,6,7,np.nan])  \n",
    "\n",
    "clean_a = a7[~np.isnan(a7)]\n",
    "\n",
    "print(clean_a)"
   ]
  },
  {
   "cell_type": "code",
   "execution_count": 25,
   "id": "82cec0bf-fee1-4e0e-a733-6d153b0682ca",
   "metadata": {},
   "outputs": [
    {
     "name": "stdout",
     "output_type": "stream",
     "text": [
      "6.708203932499369\n"
     ]
    }
   ],
   "source": [
    "#8. Обчисліть евклідову відстань між двома масивами a і b.\n",
    "a8 = np.array([1,2,3,4,5]) \n",
    "b8 = np.array([4,5,6,7,8])\n",
    "distance = np.sqrt(np.sum((a8 - b8) ** 2))\n",
    "print(distance)"
   ]
  },
  {
   "cell_type": "code",
   "execution_count": 27,
   "id": "d5f22243-ee8a-44dc-9543-cb55d3563479",
   "metadata": {},
   "outputs": [
    {
     "name": "stdout",
     "output_type": "stream",
     "text": [
      "8\n"
     ]
    }
   ],
   "source": [
    "#9. Знайдіть індекс 5-го повторення числа 1 у масиві x\n",
    "\n",
    "x = np.array([1, 2, 1, 1, 3, 4, 3, 1, 1, 2, 1, 1, 2])\n",
    "\n",
    "indices = np.where(x == 1)[0]\n",
    "\n",
    "fifth_index = indices[4]\n",
    "\n",
    "print( fifth_index)"
   ]
  },
  {
   "cell_type": "code",
   "execution_count": 29,
   "id": "a48db0ca-1324-4748-b1ec-b114bd386b06",
   "metadata": {},
   "outputs": [
    {
     "name": "stdout",
     "output_type": "stream",
     "text": [
      "[False  True False  True False False  True  True  True  True]\n"
     ]
    }
   ],
   "source": [
    "#10. Знайдіть повторювані записи (від 2-го випадку повторення і далі) у заданому масиві і позначте їх як True. \n",
    "#Перше повторення має бути False.\n",
    "\n",
    "# Input np.random.seed(100) a = np.random.randint(0, 5, 10)\n",
    "#[0 0 3 0 2 4 2 2 2 2] #Output [False True False True False False True True True True]\n",
    "\n",
    "np.random.seed(100)\n",
    "a = np.random.randint(0, 5, 10)\n",
    "seen = {}\n",
    "result = []\n",
    "\n",
    "for val in a:\n",
    "    if val in seen:\n",
    "        result.append(True)\n",
    "    else:\n",
    "        result.append(False)\n",
    "        seen[val] = True\n",
    "\n",
    "result = np.array(result)\n",
    "print(result)"
   ]
  },
  {
   "cell_type": "code",
   "execution_count": null,
   "id": "4aaa1fbd-f6de-405f-a36e-b2149d2434c0",
   "metadata": {},
   "outputs": [],
   "source": []
  }
 ],
 "metadata": {
  "kernelspec": {
   "display_name": "Python 3 (ipykernel)",
   "language": "python",
   "name": "python3"
  },
  "language_info": {
   "codemirror_mode": {
    "name": "ipython",
    "version": 3
   },
   "file_extension": ".py",
   "mimetype": "text/x-python",
   "name": "python",
   "nbconvert_exporter": "python",
   "pygments_lexer": "ipython3",
   "version": "3.13.5"
  }
 },
 "nbformat": 4,
 "nbformat_minor": 5
}
